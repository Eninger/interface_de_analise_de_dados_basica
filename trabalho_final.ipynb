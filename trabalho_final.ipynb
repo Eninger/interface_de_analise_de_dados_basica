{
 "cells": [
  {
   "cell_type": "code",
   "execution_count": 2,
   "metadata": {},
   "outputs": [
    {
     "data": {
      "text/html": [
       "<div>\n",
       "<style scoped>\n",
       "    .dataframe tbody tr th:only-of-type {\n",
       "        vertical-align: middle;\n",
       "    }\n",
       "\n",
       "    .dataframe tbody tr th {\n",
       "        vertical-align: top;\n",
       "    }\n",
       "\n",
       "    .dataframe thead th {\n",
       "        text-align: right;\n",
       "    }\n",
       "</style>\n",
       "<table border=\"1\" class=\"dataframe\">\n",
       "  <thead>\n",
       "    <tr style=\"text-align: right;\">\n",
       "      <th></th>\n",
       "      <th>codigoFipe</th>\n",
       "      <th>marca</th>\n",
       "      <th>modelo</th>\n",
       "      <th>anoModelo</th>\n",
       "      <th>mesReferencia</th>\n",
       "      <th>anoReferencia</th>\n",
       "      <th>valor</th>\n",
       "    </tr>\n",
       "  </thead>\n",
       "  <tbody>\n",
       "    <tr>\n",
       "      <th>0</th>\n",
       "      <td>038003-2</td>\n",
       "      <td>Acura</td>\n",
       "      <td>Integra GS 1.8</td>\n",
       "      <td>1992</td>\n",
       "      <td>11</td>\n",
       "      <td>2016</td>\n",
       "      <td>13041.0</td>\n",
       "    </tr>\n",
       "    <tr>\n",
       "      <th>1</th>\n",
       "      <td>038001-6</td>\n",
       "      <td>Acura</td>\n",
       "      <td>NSX 3.0</td>\n",
       "      <td>1995</td>\n",
       "      <td>3</td>\n",
       "      <td>2013</td>\n",
       "      <td>52339.0</td>\n",
       "    </tr>\n",
       "  </tbody>\n",
       "</table>\n",
       "</div>"
      ],
      "text/plain": [
       "  codigoFipe  marca          modelo  anoModelo  mesReferencia  anoReferencia  \\\n",
       "0   038003-2  Acura  Integra GS 1.8       1992             11           2016   \n",
       "1   038001-6  Acura         NSX 3.0       1995              3           2013   \n",
       "\n",
       "     valor  \n",
       "0  13041.0  \n",
       "1  52339.0  "
      ]
     },
     "execution_count": 2,
     "metadata": {},
     "output_type": "execute_result"
    }
   ],
   "source": [
    "import pandas as pd\n",
    "\n",
    "df = pd.read_csv('tabela-fipe-historico-precos.csv',index_col=0)\n",
    "df.head(2)"
   ]
  },
  {
   "cell_type": "code",
   "execution_count": 9,
   "metadata": {},
   "outputs": [
    {
     "data": {
      "text/plain": [
       "anoModelo           2023.0\n",
       "mesReferencia         12.0\n",
       "anoReferencia       2022.0\n",
       "valor            8407082.0\n",
       "dtype: float64"
      ]
     },
     "execution_count": 9,
     "metadata": {},
     "output_type": "execute_result"
    }
   ],
   "source": [
    "df[['anoModelo','mesReferencia','anoReferencia','valor']].max()"
   ]
  },
  {
   "cell_type": "markdown",
   "metadata": {},
   "source": [
    "### Informações descritivas\n",
    "### ○ Quantidade de registros\n",
    "### ○ Quantidade de colunas\n",
    "### ○ Nome e tipo de cada coluna\n",
    "### ○ Valores máximos, mínimos e médios de cada coluna (válido para colunas numéricas apenas)."
   ]
  },
  {
   "cell_type": "code",
   "execution_count": 19,
   "metadata": {},
   "outputs": [
    {
     "name": "stdout",
     "output_type": "stream",
     "text": [
      "|---------------------------------------------|\n",
      "|Menu principal:\n",
      "|    (1)Informações descritivas\n",
      "|    (2)Filtrar registros\n",
      "|    (3)Agrupamento de registros\n",
      "|    (4)Sair\n",
      "|---------------------------------------------|\n",
      "A coluna digitada não existe\n",
      "A coluna digitada não existe\n",
      "A coluna digitada não existe\n",
      "A coluna digitada não existe\n",
      "A coluna digitada não existe\n"
     ]
    },
    {
     "data": {
      "text/plain": [
       "<__main__.interface at 0x2a4072a5390>"
      ]
     },
     "execution_count": 19,
     "metadata": {},
     "output_type": "execute_result"
    }
   ],
   "source": [
    "class interface:\n",
    "\n",
    "    def __init__(self,df):\n",
    "\n",
    "        self.df = df\n",
    "\n",
    "        print('|---------------------------------------------|')\n",
    "        print('|Menu principal:')\n",
    "        print('|    (1)Informações descritivas')\n",
    "        print('|    (2)Filtrar registros')\n",
    "        print('|    (3)Agrupamento de registros')\n",
    "        print('|    (4)Sair')\n",
    "        print('|---------------------------------------------|')\n",
    "        opcao = int(input('Selecione uma opção'))\n",
    "\n",
    "        match opcao:\n",
    "            case 1:\n",
    "                self.info_desc()\n",
    "            case 2:\n",
    "                self.filtro()\n",
    "            case 3:\n",
    "                self.group()\n",
    "            case 4:\n",
    "                return None\n",
    "\n",
    "        \n",
    "\n",
    "    def info_desc(self):\n",
    "        \"\"\"Informações descritivas:\n",
    "            ○ Quantidade de registros\n",
    "            ○ Quantidade de colunas\n",
    "            ○ Nome e tipo de cada coluna\n",
    "            ○ Valores máximos, mínimos e médios de cada coluna (válido para colunas numéricas apenas).\"\"\"\n",
    "\n",
    "\n",
    "        print('|Quantidade de registros:',self.df.shape[0])\n",
    "        print('|Quantidade de colunas:',self.df.shape[1])\n",
    "        print('|---------------------------------------------|')\n",
    "        print('|As colunas e seus tipos são:\\n',df.dtypes)\n",
    "        print('|---------------------------------------------|')\n",
    "        print('|Os valores máximos são:\\n',df[['anoModelo','mesReferencia','anoReferencia','valor']].max())\n",
    "        print('|---------------------------------------------|')\n",
    "        print('|Os valores mínimos são:\\n',df[['anoModelo','mesReferencia','anoReferencia','valor']].min())\n",
    "        print('|---------------------------------------------|')\n",
    "        print('|Os valores médios são:\\n',df[['anoModelo','mesReferencia','anoReferencia','valor']].mean())\n",
    "        print('|---------------------------------------------|')\n",
    "\n",
    "        self.__init__(self.df)\n",
    "    \n",
    "    def filtro(self):\n",
    "        \"\"\"Filtrar registros:\n",
    "            ○ O sistema deverá ser capaz de filtrar registros por condições relacionadas a uma ou mais colunas.\n",
    "            ○ O usuário deverá escolher quais colunas ele deseja incluir na condição de filtragem, bem como os valores que serão comparados e qual o teste de comparação.\"\"\"\n",
    "        \n",
    "        coluna = input('Informe a coluna a ser filtrada')\n",
    "        \n",
    "        while coluna not in df.columns:\n",
    "            print('|---------------------------------------------|')\n",
    "            print('A coluna digitada não existe, tente novamente.')\n",
    "            print('|---------------------------------------------|')\n",
    "            coluna = input('Informe a coluna a ser filtrada')\n",
    "                \n",
    "\n",
    "        return None\n",
    "        \n",
    "\n",
    "    def group(self):\n",
    "        return 0 \n",
    "\n",
    "\n",
    "\n",
    "\n",
    "\n",
    "interface(df)"
   ]
  },
  {
   "cell_type": "code",
   "execution_count": 13,
   "metadata": {},
   "outputs": [
    {
     "name": "stdout",
     "output_type": "stream",
     "text": [
      "Quantidade de registros: 466020\n",
      "Quantidade de colunas: 7\n"
     ]
    }
   ],
   "source": [
    "#Quantidade de registros\n",
    "print('Quantidade de registros:',df.shape[0])\n",
    "print('Quantidade de colunas:',df.shape[1])\n",
    "\n",
    "\n"
   ]
  }
 ],
 "metadata": {
  "kernelspec": {
   "display_name": "base",
   "language": "python",
   "name": "python3"
  },
  "language_info": {
   "codemirror_mode": {
    "name": "ipython",
    "version": 3
   },
   "file_extension": ".py",
   "mimetype": "text/x-python",
   "name": "python",
   "nbconvert_exporter": "python",
   "pygments_lexer": "ipython3",
   "version": "3.10.9"
  }
 },
 "nbformat": 4,
 "nbformat_minor": 2
}
